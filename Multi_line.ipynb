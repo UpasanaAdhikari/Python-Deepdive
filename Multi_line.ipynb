{
 "cells": [
  {
   "cell_type": "markdown",
   "metadata": {},
   "source": [
    "# Implicit line continuation"
   ]
  },
  {
   "cell_type": "code",
   "execution_count": 7,
   "metadata": {},
   "outputs": [
    {
     "data": {
      "text/plain": [
       "[1, 2, 3]"
      ]
     },
     "execution_count": 7,
     "metadata": {},
     "output_type": "execute_result"
    }
   ],
   "source": [
    "a = [1,2,3]\n",
    "b = [1, #can be wriitten in multiple line like so\n",
    "2,3\n",
    ",4]\n",
    "a\n"
   ]
  },
  {
   "cell_type": "code",
   "execution_count": 8,
   "metadata": {},
   "outputs": [
    {
     "data": {
      "text/plain": [
       "[1, 2, 3, 4]"
      ]
     },
     "execution_count": 8,
     "metadata": {},
     "output_type": "execute_result"
    }
   ],
   "source": [
    "b"
   ]
  },
  {
   "cell_type": "code",
   "execution_count": 9,
   "metadata": {},
   "outputs": [
    {
     "data": {
      "text/plain": [
       "(2, 3)"
      ]
     },
     "execution_count": 9,
     "metadata": {},
     "output_type": "execute_result"
    }
   ],
   "source": [
    "a=(2,3) # in tuple too\n",
    "b=(2,#comment 1 \n",
    "   2,#comment 2\n",
    "   )\n",
    "a"
   ]
  },
  {
   "cell_type": "code",
   "execution_count": 10,
   "metadata": {},
   "outputs": [
    {
     "data": {
      "text/plain": [
       "(2, 2)"
      ]
     },
     "execution_count": 10,
     "metadata": {},
     "output_type": "execute_result"
    }
   ],
   "source": [
    "b"
   ]
  },
  {
   "cell_type": "code",
   "execution_count": null,
   "metadata": {},
   "outputs": [
    {
     "data": {
      "text/plain": [
       "{2, 3, 5}"
      ]
     },
     "execution_count": 11,
     "metadata": {},
     "output_type": "execute_result"
    }
   ],
   "source": [
    "a={2, #cmd ------same with set \n",
    "  3, #cmt\n",
    "  5}\n",
    "a"
   ]
  },
  {
   "cell_type": "code",
   "execution_count": null,
   "metadata": {},
   "outputs": [
    {
     "data": {
      "text/plain": [
       "{'key1': 'val1', 'key2': 'val2'}"
      ]
     },
     "execution_count": 13,
     "metadata": {},
     "output_type": "execute_result"
    }
   ],
   "source": [
    "a={'key1':'val1', #cmt ---same for dictionary\n",
    "   'key2':'val2' #cmt \n",
    "   }\n",
    "a"
   ]
  },
  {
   "cell_type": "code",
   "execution_count": 17,
   "metadata": {},
   "outputs": [
    {
     "name": "stdout",
     "output_type": "stream",
     "text": [
      "1 2 3\n",
      "2 3 4\n"
     ]
    }
   ],
   "source": [
    "def my_func(a, #1st ----- you can do same to function\n",
    "            b, # 2nd\n",
    "            c):\n",
    "    print(a,b,c)\n",
    "my_func(1,2,3)\n",
    "my_func(2, #comment about this value\n",
    "        3,# can be split in multiple line\n",
    "        4)"
   ]
  },
  {
   "cell_type": "markdown",
   "metadata": {},
   "source": [
    "# Explicit line contiuation"
   ]
  },
  {
   "cell_type": "code",
   "execution_count": 18,
   "metadata": {},
   "outputs": [
    {
     "name": "stdout",
     "output_type": "stream",
     "text": [
      "false\n"
     ]
    }
   ],
   "source": [
    "a=10\n",
    "b=20\n",
    "c=20\n",
    "if a > b and b >c and c > a:\n",
    "    print(\"yes\")\n",
    "else:\n",
    "    print(\"false\")"
   ]
  },
  {
   "cell_type": "code",
   "execution_count": null,
   "metadata": {},
   "outputs": [
    {
     "name": "stdout",
     "output_type": "stream",
     "text": [
      "false\n"
     ]
    }
   ],
   "source": [
    "a=10\n",
    "b=20\n",
    "c=20\n",
    "if a > b \\\n",
    "    and b >c \\\n",
    "        and c > a:\n",
    "    print(\"yes\")\n",
    "else:\n",
    "    print(\"false\")\n",
    "    # this does only does multiline using \\"
   ]
  },
  {
   "cell_type": "code",
   "execution_count": 2,
   "metadata": {},
   "outputs": [
    {
     "name": "stdout",
     "output_type": "stream",
     "text": [
      "this is string\n",
      "can be in multiple line\n"
     ]
    }
   ],
   "source": [
    "a = '''this is string\n",
    "can be in multiple line''' # Multiline string\n",
    "\n",
    "print(a)"
   ]
  },
  {
   "cell_type": "code",
   "execution_count": 3,
   "metadata": {},
   "outputs": [
    {
     "name": "stdout",
     "output_type": "stream",
     "text": [
      "this is string\n",
      "        can be in multiple line\n",
      "            that is created\n"
     ]
    }
   ],
   "source": [
    "a = '''this is string\n",
    "        can be in multiple line\n",
    "            that is created'''\n",
    "\n",
    "print(a) # this ''' ''' gives exactly what we gave"
   ]
  },
  {
   "cell_type": "code",
   "execution_count": 26,
   "metadata": {},
   "outputs": [
    {
     "name": "stdout",
     "output_type": "stream",
     "text": [
      " some items\n",
      "            1:item1\n",
      "            2:item2\n",
      "            \n"
     ]
    }
   ],
   "source": [
    "a = ''' some items\n",
    "            1:item1\n",
    "            2:item2\n",
    "            '''\n",
    "print(a)"
   ]
  },
  {
   "cell_type": "code",
   "execution_count": 29,
   "metadata": {},
   "outputs": [
    {
     "name": "stdout",
     "output_type": "stream",
     "text": [
      " a muti linme string that is indendented \n",
      "    second line\n",
      " a muti linme string that is not indendented \n",
      "second line\n"
     ]
    }
   ],
   "source": [
    "def my_func():\n",
    "    a = ''' a muti linme string that is indendented \n",
    "    second line'''\n",
    "    return a\n",
    "def my_func2():\n",
    "    a = ''' a muti linme string that is not indendented \n",
    "second line'''\n",
    "    return a\n",
    "print(my_func())\n",
    "print(my_func2())"
   ]
  }
 ],
 "metadata": {
  "kernelspec": {
   "display_name": "myenv",
   "language": "python",
   "name": "python3"
  },
  "language_info": {
   "codemirror_mode": {
    "name": "ipython",
    "version": 3
   },
   "file_extension": ".py",
   "mimetype": "text/x-python",
   "name": "python",
   "nbconvert_exporter": "python",
   "pygments_lexer": "ipython3",
   "version": "3.9.21"
  }
 },
 "nbformat": 4,
 "nbformat_minor": 2
}
